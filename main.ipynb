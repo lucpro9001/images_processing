{
 "cells": [
  {
   "cell_type": "code",
   "execution_count": 2,
   "metadata": {},
   "outputs": [
    {
     "ename": "KeyboardInterrupt",
     "evalue": "",
     "output_type": "error",
     "traceback": [
      "\u001b[1;31m---------------------------------------------------------------------------\u001b[0m",
      "\u001b[1;31mKeyboardInterrupt\u001b[0m                         Traceback (most recent call last)",
      "\u001b[1;32mc:\\Users\\Admin\\Desktop\\xla\\main.ipynb Cell 1\u001b[0m in \u001b[0;36m<cell line: 20>\u001b[1;34m()\u001b[0m\n\u001b[0;32m     <a href='vscode-notebook-cell:/c%3A/Users/Admin/Desktop/xla/main.ipynb#W0sZmlsZQ%3D%3D?line=16'>17</a>\u001b[0m cv2\u001b[39m.\u001b[39mimshow(\u001b[39m'\u001b[39m\u001b[39mbrg\u001b[39m\u001b[39m'\u001b[39m, img5)\n\u001b[0;32m     <a href='vscode-notebook-cell:/c%3A/Users/Admin/Desktop/xla/main.ipynb#W0sZmlsZQ%3D%3D?line=17'>18</a>\u001b[0m cv2\u001b[39m.\u001b[39mimshow(\u001b[39m'\u001b[39m\u001b[39mbgr\u001b[39m\u001b[39m'\u001b[39m, img6)\n\u001b[1;32m---> <a href='vscode-notebook-cell:/c%3A/Users/Admin/Desktop/xla/main.ipynb#W0sZmlsZQ%3D%3D?line=19'>20</a>\u001b[0m cv2\u001b[39m.\u001b[39;49mwaitKey(\u001b[39m0\u001b[39;49m)\n\u001b[0;32m     <a href='vscode-notebook-cell:/c%3A/Users/Admin/Desktop/xla/main.ipynb#W0sZmlsZQ%3D%3D?line=20'>21</a>\u001b[0m cv2\u001b[39m.\u001b[39mdestroyAllWindows()\n",
      "\u001b[1;31mKeyboardInterrupt\u001b[0m: "
     ]
    }
   ],
   "source": [
    "import cv2\n",
    "img = cv2.imread('./Capture.PNG')\n",
    "\n",
    "b, g, r = cv2.split(img)\n",
    "\n",
    "img1 = cv2.merge([r,g,b])\n",
    "img2 = cv2.merge([r,b,g])\n",
    "img3 = cv2.merge([g,b,r])\n",
    "img4 = cv2.merge([g,r,b])\n",
    "img5 = cv2.merge([b,r,g])\n",
    "img6 = cv2.merge([b,g,r])\n",
    "\n",
    "cv2.imshow('rgb', img1)\n",
    "cv2.imshow('rbg', img2)\n",
    "cv2.imshow('gbr', img3)\n",
    "cv2.imshow('grb', img4)\n",
    "cv2.imshow('brg', img5)\n",
    "cv2.imshow('bgr', img6)\n",
    "\n",
    "cv2.waitKey(0)\n",
    "cv2.destroyAllWindows()"
   ]
  },
  {
   "cell_type": "code",
   "execution_count": 3,
   "metadata": {},
   "outputs": [
    {
     "ename": "KeyboardInterrupt",
     "evalue": "",
     "output_type": "error",
     "traceback": [
      "\u001b[1;31m---------------------------------------------------------------------------\u001b[0m",
      "\u001b[1;31mKeyboardInterrupt\u001b[0m                         Traceback (most recent call last)",
      "\u001b[1;32mc:\\Users\\Admin\\Desktop\\xla\\main.ipynb Cell 2\u001b[0m in \u001b[0;36m<cell line: 19>\u001b[1;34m()\u001b[0m\n\u001b[0;32m     <a href='vscode-notebook-cell:/c%3A/Users/Admin/Desktop/xla/main.ipynb#W4sZmlsZQ%3D%3D?line=15'>16</a>\u001b[0m cv2\u001b[39m.\u001b[39mimshow(\u001b[39m\"\u001b[39m\u001b[39mbgr\u001b[39m\u001b[39m\"\u001b[39m,img5)\n\u001b[0;32m     <a href='vscode-notebook-cell:/c%3A/Users/Admin/Desktop/xla/main.ipynb#W4sZmlsZQ%3D%3D?line=16'>17</a>\u001b[0m cv2\u001b[39m.\u001b[39mimshow(\u001b[39m\"\u001b[39m\u001b[39mbrg\u001b[39m\u001b[39m\"\u001b[39m,img6)\n\u001b[1;32m---> <a href='vscode-notebook-cell:/c%3A/Users/Admin/Desktop/xla/main.ipynb#W4sZmlsZQ%3D%3D?line=18'>19</a>\u001b[0m cv2\u001b[39m.\u001b[39;49mwaitKey(\u001b[39m0\u001b[39;49m)\n\u001b[0;32m     <a href='vscode-notebook-cell:/c%3A/Users/Admin/Desktop/xla/main.ipynb#W4sZmlsZQ%3D%3D?line=19'>20</a>\u001b[0m cv2\u001b[39m.\u001b[39mdestroyAllWindows()\n",
      "\u001b[1;31mKeyboardInterrupt\u001b[0m: "
     ]
    }
   ],
   "source": [
    "import cv2\n",
    "img = cv2.imread(\"./a.jpg\")\n",
    "b ,g ,r = cv2.split(img)\n",
    "\n",
    "img1= cv2.merge([r,g,b])\n",
    "img2= cv2.merge([r,b,g])\n",
    "img3= cv2.merge([g,r,b])\n",
    "img4= cv2.merge([g,b,r])\n",
    "img5= cv2.merge([b,g,r])\n",
    "img6= cv2.merge([b,r,g])\n",
    "\n",
    "cv2.imshow(\"rgb\",img1)\n",
    "cv2.imshow(\"rbg\",img2)\n",
    "cv2.imshow(\"grb\",img3)\n",
    "cv2.imshow(\"gbr\",img4)\n",
    "cv2.imshow(\"bgr\",img5)\n",
    "cv2.imshow(\"brg\",img6)\n",
    "\n",
    "cv2.waitKey(0)\n",
    "cv2.destroyAllWindows()"
   ]
  }
 ],
 "metadata": {
  "kernelspec": {
   "display_name": "Python 3.8.0 64-bit",
   "language": "python",
   "name": "python3"
  },
  "language_info": {
   "codemirror_mode": {
    "name": "ipython",
    "version": 3
   },
   "file_extension": ".py",
   "mimetype": "text/x-python",
   "name": "python",
   "nbconvert_exporter": "python",
   "pygments_lexer": "ipython3",
   "version": "3.8.0"
  },
  "orig_nbformat": 4,
  "vscode": {
   "interpreter": {
    "hash": "a4868653bb6f8972e87e4c446ab8a445a15b25dedb8594cc74c480f8152ea86a"
   }
  }
 },
 "nbformat": 4,
 "nbformat_minor": 2
}
